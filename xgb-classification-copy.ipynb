{
 "cells": [
  {
   "cell_type": "code",
   "execution_count": 1,
   "metadata": {},
   "outputs": [],
   "source": [
    "%matplotlib inline\n",
    "import pandas as pd\n",
    "\n",
    "from sklearn.feature_extraction.text import CountVectorizer\n",
    "from sklearn.feature_extraction.text import HashingVectorizer\n",
    "from sklearn.feature_extraction.text import TfidfVectorizer\n",
    "from sklearn.feature_extraction.text import TfidfTransformer\n",
    "from sklearn.pipeline import Pipeline\n",
    "\n",
    "from sklearn.model_selection import GridSearchCV    \n",
    "from sklearn.model_selection import cross_validate\n",
    "from sklearn.metrics import classification_report\n",
    "from sklearn.datasets import fetch_20newsgroups\n",
    "\n",
    "import matplotlib.pyplot as plt\n",
    "from preprocessor import Preprocessor"
   ]
  },
  {
   "cell_type": "markdown",
   "metadata": {},
   "source": [
    "## Importando classificador principal, mas também é preciso um *baseline*"
   ]
  },
  {
   "cell_type": "code",
   "execution_count": 2,
   "metadata": {},
   "outputs": [],
   "source": [
    "import xgboost as xgb\n",
    "from sklearn.naive_bayes import MultinomialNB"
   ]
  },
  {
   "cell_type": "code",
   "execution_count": 3,
   "metadata": {
    "scrolled": true
   },
   "outputs": [
    {
     "name": "stdout",
     "output_type": "stream",
     "text": [
      "type(ng_train.data[0]):  <class 'str'>\n"
     ]
    }
   ],
   "source": [
    "# categories = [\n",
    "#     'alt.atheism',\n",
    "#     'comp.graphics',\n",
    "#     'rec.sport.hockey',\n",
    "#     'sci.space'\n",
    "# ]\n",
    "# ng_train = fetch_20newsgroups(\n",
    "#     subset='train',\n",
    "#     remove=('headers','footers','quotes'),\n",
    "#     categories=categories)\n",
    "# X, y = ng_train.data, ng_train.target\n",
    "\n",
    "categories = ['true', 'false']\n",
    "df = pd.read_csv('data.csv')\n",
    "X, y = df.label, df.is_valid\n",
    "\n",
    "\n",
    "# print(\"type(ng_train.data[0]): \", type(ng_train.data[0]))\n",
    "print(\"type(ng_train.data[0]): \", type(X[0]))"
   ]
  },
  {
   "cell_type": "code",
   "execution_count": 4,
   "metadata": {},
   "outputs": [],
   "source": [
    "pipe_xgb = Pipeline([\n",
    "    ('vectorizer', TfidfVectorizer()),\n",
    "    ('model',xgb.XGBClassifier(\n",
    "        objective=\"multi:softprob\", random_state=42, num_class=2)\n",
    "    )\n",
    "])\n",
    "pipe_mnb = Pipeline([\n",
    "    ('vectorizer', TfidfVectorizer()),\n",
    "    ('model',MultinomialNB()),\n",
    "])"
   ]
  },
  {
   "cell_type": "code",
   "execution_count": 5,
   "metadata": {
    "scrolled": true
   },
   "outputs": [
    {
     "name": "stdout",
     "output_type": "stream",
     "text": [
      "CPU times: user 4min 56s, sys: 45.2 ms, total: 4min 56s\n",
      "Wall time: 1min 14s\n"
     ]
    },
    {
     "data": {
      "text/plain": [
       "Pipeline(steps=[('vectorizer', TfidfVectorizer()), ('model', MultinomialNB())])"
      ]
     },
     "execution_count": 5,
     "metadata": {},
     "output_type": "execute_result"
    }
   ],
   "source": [
    "%%time\n",
    "pipe_xgb.fit(X, y);\n",
    "pipe_mnb.fit(X, y);"
   ]
  },
  {
   "cell_type": "code",
   "execution_count": 6,
   "metadata": {},
   "outputs": [],
   "source": [
    "s = [\"God is good!\",'computer image jpeg','sport hocker']\n",
    "xgb_out = pipe_xgb.predict(s)\n",
    "mnb_out = pipe_mnb.predict(s)"
   ]
  },
  {
   "cell_type": "code",
   "execution_count": 7,
   "metadata": {},
   "outputs": [
    {
     "name": "stdout",
     "output_type": "stream",
     "text": [
      "CPU times: user 34min 46s, sys: 248 ms, total: 34min 46s\n",
      "Wall time: 8min 44s\n"
     ]
    }
   ],
   "source": [
    "%%time\n",
    "res_xgb = cross_validate(pipe_xgb, X, y)\n",
    "res_mnb = cross_validate(pipe_mnb, X, y)"
   ]
  },
  {
   "cell_type": "code",
   "execution_count": 8,
   "metadata": {},
   "outputs": [
    {
     "data": {
      "text/plain": [
       "(0.662519425019425, 0.6541278166278166)"
      ]
     },
     "execution_count": 8,
     "metadata": {},
     "output_type": "execute_result"
    }
   ],
   "source": [
    "(res_xgb['test_score'].mean(),\n",
    "res_mnb['test_score'].mean(),\n",
    ")"
   ]
  },
  {
   "cell_type": "code",
   "execution_count": null,
   "metadata": {},
   "outputs": [],
   "source": []
  }
 ],
 "metadata": {
  "kernelspec": {
   "display_name": "Python 3",
   "language": "python",
   "name": "python3"
  },
  "language_info": {
   "codemirror_mode": {
    "name": "ipython",
    "version": 3
   },
   "file_extension": ".py",
   "mimetype": "text/x-python",
   "name": "python",
   "nbconvert_exporter": "python",
   "pygments_lexer": "ipython3",
   "version": "3.8.1"
  }
 },
 "nbformat": 4,
 "nbformat_minor": 2
}
