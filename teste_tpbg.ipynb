{
 "cells": [
  {
   "cell_type": "code",
   "execution_count": 26,
   "metadata": {},
   "outputs": [],
   "source": [
    "%matplotlib inline\n",
    "from pbg import PBG\n",
    "from util import Loader\n",
    "from sklearn.pipeline import Pipeline\n",
    "from preprocessor import Preprocessor\n",
    "from sklearn.feature_extraction.text import CountVectorizer\n",
    "from sklearn.decomposition import LatentDirichletAllocation\n",
    "import numpy as np\n",
    "\n",
    "# carrega matrix\n",
    "s_dataset = '/exp/datasets/docs_rotulados/SyskillWebert-Parsed'\n",
    "l = Loader()\n",
    "d = l.from_files(s_dataset)\n",
    "\n",
    "# Préprocessamento\n",
    "cvect = CountVectorizer()\n",
    "steps = [('preprocessor',Preprocessor()), ('countvectorizer',cvect)]\n",
    "pipe = Pipeline(steps) \n",
    "pipe.fit(d['corpus'])\n",
    "M = pipe.transform(d['corpus'])\n"
   ]
  },
  {
   "cell_type": "code",
   "execution_count": 27,
   "metadata": {},
   "outputs": [
    {
     "data": {
      "text/plain": [
       "<util.ConfigLabels at 0x7fc02cb4a128>"
      ]
     },
     "execution_count": 27,
     "metadata": {},
     "output_type": "execute_result"
    }
   ],
   "source": [
    "from util import ConfigLabels\n",
    "%reload_ext autoreload\n",
    "%autoreload 2\n",
    "\n",
    "# escolhes quantos dados rotulados\n",
    "number_labelled_examples = [10,20,30,40,50] # 10,20,..,50 exemplos rotulados por classe\n",
    "conf_labels = ConfigLabels(list_n_labels=number_labelled_examples)\n",
    "conf_labels.fit(d['class_index']) "
   ]
  },
  {
   "cell_type": "code",
   "execution_count": 31,
   "metadata": {},
   "outputs": [
    {
     "data": {
      "text/plain": [
       "PBG(alpha=0.5, beta=0.001, calc_q=False, debug=False, global_max_itr=10,\n",
       "  global_threshold=1e-06, local_max_itr=10, local_threshold=1e-06,\n",
       "  max_time=18000, n_components=4, out_A='A', out_B='B', out_dir='.',\n",
       "  save_interval=-1)"
      ]
     },
     "execution_count": 31,
     "metadata": {},
     "output_type": "execute_result"
    }
   ],
   "source": [
    "from pbg import PBG\n",
    "%reload_ext autoreload\n",
    "%autoreload 2\n",
    "\n",
    "# teste com 50 dados rotulados\n",
    "n_examples_labelled = 50\n",
    "#vetor y com os rótulos, apenas 50 exemplos rotulados\n",
    "y = conf_labels.semi_labels[n_examples_labelled]\n",
    "# numero de classes\n",
    "K = len(np.unique(d['class_index'])) \n",
    "\n",
    "pbg = PBG(K, alpha=0.5, beta=0.001, local_max_itr=10, \n",
    "              global_max_itr=10, local_threshold = 1e-6, global_threshold = 1e-6, \n",
    "              max_time=18000, save_interval=-1, out_dir='.', out_A='A', out_B='B', calc_q=False, debug=False)\n",
    "# executa pbg transdutivo\n",
    "pbg.fit(M, y)\n"
   ]
  },
  {
   "cell_type": "code",
   "execution_count": 34,
   "metadata": {},
   "outputs": [
    {
     "name": "stdout",
     "output_type": "stream",
     "text": [
      "             precision    recall  f1-score   support\n",
      "\n",
      "          0       0.63      0.59      0.61        32\n",
      "          1       0.98      0.84      0.90        95\n",
      "          2       0.72      0.84      0.77        37\n",
      "          3       0.74      1.00      0.85        25\n",
      "\n",
      "avg / total       0.84      0.82      0.82       189\n",
      "\n",
      "Confusion matrix\n",
      "[[19  0  6  7]\n",
      " [ 8 80  6  1]\n",
      " [ 3  2 31  1]\n",
      " [ 0  0  0 25]]\n"
     ]
    }
   ],
   "source": [
    "from sklearn.metrics import classification_report, confusion_matrix\n",
    "\n",
    "y_unlabelled = conf_labels.unlabelled_idx[n_examples_labelled]\n",
    "predicted_labels = pbg.transduction_[y_unlabelled]\n",
    "true_labels = np.array(d['class_index'])[y_unlabelled]\n",
    "\n",
    "cm = confusion_matrix(true_labels, predicted_labels, labels=pbg.classes_)\n",
    "print(classification_report(true_labels, predicted_labels))\n",
    "print(\"Confusion matrix\")\n",
    "print(cm)"
   ]
  },
  {
   "cell_type": "code",
   "execution_count": 35,
   "metadata": {},
   "outputs": [],
   "source": [
    "#ABAIXO ESTÁ EXEMPLO COM O LABEL PROPAGATION"
   ]
  },
  {
   "cell_type": "code",
   "execution_count": 36,
   "metadata": {},
   "outputs": [
    {
     "name": "stderr",
     "output_type": "stream",
     "text": [
      "/home/thiagodepaulo/anaconda3/lib/python3.6/site-packages/sklearn/semi_supervised/label_propagation.py:288: ConvergenceWarning: max_iter=30 was reached without convergence.\n",
      "  category=ConvergenceWarning\n"
     ]
    },
    {
     "data": {
      "text/plain": [
       "LabelSpreading(alpha=0.8, gamma=20, kernel='knn', max_iter=30, n_jobs=1,\n",
       "        n_neighbors=7, tol=0.001)"
      ]
     },
     "execution_count": 36,
     "metadata": {},
     "output_type": "execute_result"
    }
   ],
   "source": [
    "from sklearn.semi_supervised import label_propagation\n",
    "from sklearn.metrics import classification_report, confusion_matrix\n",
    "from scipy.sparse import csgraph\n",
    "\n",
    "# Learn with LabelSpreading\n",
    "label_spread = label_propagation.LabelSpreading(kernel='knn', alpha=0.8)\n",
    "label_spread.fit(M.toarray(), y)"
   ]
  },
  {
   "cell_type": "code",
   "execution_count": 37,
   "metadata": {},
   "outputs": [
    {
     "name": "stdout",
     "output_type": "stream",
     "text": [
      "             precision    recall  f1-score   support\n",
      "\n",
      "          0       0.41      0.91      0.56        32\n",
      "          1       1.00      0.52      0.68        95\n",
      "          2       0.40      0.70      0.51        37\n",
      "          3       1.00      0.16      0.28        25\n",
      "\n",
      "avg / total       0.78      0.57      0.57       189\n",
      "\n",
      "Confusion matrix\n",
      "[[29  0  3  0]\n",
      " [17 49 29  0]\n",
      " [11  0 26  0]\n",
      " [14  0  7  4]]\n"
     ]
    }
   ],
   "source": [
    "y_unlabelled = conf_labels.unlabelled_idx[n_examples_labelled]\n",
    "predicted_labels = label_spread.transduction_[y_unlabelled]\n",
    "true_labels = np.array(d['class_index'])[y_unlabelled]\n",
    "\n",
    "cm = confusion_matrix(true_labels, predicted_labels, labels=label_spread.classes_)\n",
    "print(classification_report(true_labels, predicted_labels))\n",
    "print(\"Confusion matrix\")\n",
    "print(cm)"
   ]
  }
 ],
 "metadata": {
  "kernelspec": {
   "display_name": "Python 3",
   "language": "python",
   "name": "python3"
  },
  "language_info": {
   "codemirror_mode": {
    "name": "ipython",
    "version": 3
   },
   "file_extension": ".py",
   "mimetype": "text/x-python",
   "name": "python",
   "nbconvert_exporter": "python",
   "pygments_lexer": "ipython3",
   "version": "3.6.4"
  }
 },
 "nbformat": 4,
 "nbformat_minor": 2
}
